{
 "cells": [
  {
   "cell_type": "markdown",
   "metadata": {},
   "source": [
    "Класс `Dog`: можно погладить, можно пнуть, можно попросить гавкнуть"
   ]
  },
  {
   "cell_type": "code",
   "execution_count": 1,
   "metadata": {},
   "outputs": [
    {
     "name": "stdout",
     "output_type": "stream",
     "text": [
      "gaw\n",
      "Gaw-gaw\n",
      "kick\n",
      "gaw\n",
      "GAW-GAW\n",
      "pet\n",
      "gaw\n",
      "Gaw-gaw\n",
      "end\n"
     ]
    }
   ],
   "source": [
    "class Dog():\n",
    "    def __init__(self):\n",
    "        self.angry = False\n",
    "    \n",
    "    \n",
    "    def pet(self):\n",
    "        self.angry = False\n",
    "    \n",
    "    \n",
    "    def kick(self):\n",
    "        self.angry = True\n",
    "    \n",
    "    \n",
    "    def say_gaw(self):\n",
    "        if self.angry:\n",
    "            print('GAW-GAW')\n",
    "        else:\n",
    "            print(\"Gaw-gaw\")\n",
    "\n",
    "\n",
    "bobik = Dog()\n",
    "command = input()\n",
    "while command != 'end':\n",
    "    if command == 'pet':\n",
    "        bobik.pet()\n",
    "    elif command == 'kick':\n",
    "        bobik.kick()\n",
    "    elif command == 'gaw':\n",
    "        bobik.say_gaw()\n",
    "    command = input()"
   ]
  },
  {
   "cell_type": "markdown",
   "metadata": {},
   "source": [
    "# Задание на \"удовлетворительно (4)\"\n",
    "\n",
    "Написать класс `Bacterium`, объекты которого \n",
    "- обладают целым неотрицательным количеством очков здоровья\n",
    "- можно \"пнуть\", уменьшив число очков на единицу\n",
    "- можно \"покормить\", увеличив число очков на единицу\n",
    "- можно \"попросить продемонстрировать очки здоровья\".\n",
    "\n",
    "Проверьте его работоспособность."
   ]
  },
  {
   "cell_type": "markdown",
   "metadata": {},
   "source": [
    "# Задание на \"хорошо (5)\"\n",
    "\n",
    "Изменить код из предыдущей задачи, добавив возможность \"покормить\" и \"пнуть\" с произвольным числом очков здоровья"
   ]
  },
  {
   "cell_type": "markdown",
   "metadata": {},
   "source": [
    "# Задание на \"хорошо (6)\"\n",
    "\n",
    "Добавить возможность перемещать бактерию в плоскости XY на заданное расстояние в произвольном направлении"
   ]
  }
 ],
 "metadata": {
  "kernelspec": {
   "display_name": "Python 3",
   "language": "python",
   "name": "python3"
  },
  "language_info": {
   "codemirror_mode": {
    "name": "ipython",
    "version": 3
   },
   "file_extension": ".py",
   "mimetype": "text/x-python",
   "name": "python",
   "nbconvert_exporter": "python",
   "pygments_lexer": "ipython3",
   "version": "3.8.5"
  }
 },
 "nbformat": 4,
 "nbformat_minor": 4
}
