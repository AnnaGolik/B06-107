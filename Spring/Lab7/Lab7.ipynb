{
 "cells": [
  {
   "cell_type": "markdown",
   "metadata": {},
   "source": [
    "# Pandas - работа с таблицами\n",
    "\n",
    "Часть 3\n",
    "\n",
    "## Работа с данными\n",
    "\n",
    "Загрузим датасет [Students Performance in Exams](https://www.kaggle.com/datasets/spscientist/students-performance-in-exams?resource=download)"
   ]
  },
  {
   "cell_type": "code",
   "execution_count": 1,
   "metadata": {},
   "outputs": [
    {
     "data": {
      "text/html": [
       "<div>\n",
       "<style scoped>\n",
       "    .dataframe tbody tr th:only-of-type {\n",
       "        vertical-align: middle;\n",
       "    }\n",
       "\n",
       "    .dataframe tbody tr th {\n",
       "        vertical-align: top;\n",
       "    }\n",
       "\n",
       "    .dataframe thead th {\n",
       "        text-align: right;\n",
       "    }\n",
       "</style>\n",
       "<table border=\"1\" class=\"dataframe\">\n",
       "  <thead>\n",
       "    <tr style=\"text-align: right;\">\n",
       "      <th></th>\n",
       "      <th>gender</th>\n",
       "      <th>race/ethnicity</th>\n",
       "      <th>parental level of education</th>\n",
       "      <th>lunch</th>\n",
       "      <th>test preparation course</th>\n",
       "      <th>math score</th>\n",
       "      <th>reading score</th>\n",
       "      <th>writing score</th>\n",
       "    </tr>\n",
       "  </thead>\n",
       "  <tbody>\n",
       "    <tr>\n",
       "      <th>0</th>\n",
       "      <td>female</td>\n",
       "      <td>group B</td>\n",
       "      <td>bachelor's degree</td>\n",
       "      <td>standard</td>\n",
       "      <td>none</td>\n",
       "      <td>72</td>\n",
       "      <td>72</td>\n",
       "      <td>74</td>\n",
       "    </tr>\n",
       "    <tr>\n",
       "      <th>1</th>\n",
       "      <td>female</td>\n",
       "      <td>group C</td>\n",
       "      <td>some college</td>\n",
       "      <td>standard</td>\n",
       "      <td>completed</td>\n",
       "      <td>69</td>\n",
       "      <td>90</td>\n",
       "      <td>88</td>\n",
       "    </tr>\n",
       "    <tr>\n",
       "      <th>2</th>\n",
       "      <td>female</td>\n",
       "      <td>group B</td>\n",
       "      <td>master's degree</td>\n",
       "      <td>standard</td>\n",
       "      <td>none</td>\n",
       "      <td>90</td>\n",
       "      <td>95</td>\n",
       "      <td>93</td>\n",
       "    </tr>\n",
       "    <tr>\n",
       "      <th>3</th>\n",
       "      <td>male</td>\n",
       "      <td>group A</td>\n",
       "      <td>associate's degree</td>\n",
       "      <td>free/reduced</td>\n",
       "      <td>none</td>\n",
       "      <td>47</td>\n",
       "      <td>57</td>\n",
       "      <td>44</td>\n",
       "    </tr>\n",
       "    <tr>\n",
       "      <th>4</th>\n",
       "      <td>male</td>\n",
       "      <td>group C</td>\n",
       "      <td>some college</td>\n",
       "      <td>standard</td>\n",
       "      <td>none</td>\n",
       "      <td>76</td>\n",
       "      <td>78</td>\n",
       "      <td>75</td>\n",
       "    </tr>\n",
       "    <tr>\n",
       "      <th>...</th>\n",
       "      <td>...</td>\n",
       "      <td>...</td>\n",
       "      <td>...</td>\n",
       "      <td>...</td>\n",
       "      <td>...</td>\n",
       "      <td>...</td>\n",
       "      <td>...</td>\n",
       "      <td>...</td>\n",
       "    </tr>\n",
       "    <tr>\n",
       "      <th>995</th>\n",
       "      <td>female</td>\n",
       "      <td>group E</td>\n",
       "      <td>master's degree</td>\n",
       "      <td>standard</td>\n",
       "      <td>completed</td>\n",
       "      <td>88</td>\n",
       "      <td>99</td>\n",
       "      <td>95</td>\n",
       "    </tr>\n",
       "    <tr>\n",
       "      <th>996</th>\n",
       "      <td>male</td>\n",
       "      <td>group C</td>\n",
       "      <td>high school</td>\n",
       "      <td>free/reduced</td>\n",
       "      <td>none</td>\n",
       "      <td>62</td>\n",
       "      <td>55</td>\n",
       "      <td>55</td>\n",
       "    </tr>\n",
       "    <tr>\n",
       "      <th>997</th>\n",
       "      <td>female</td>\n",
       "      <td>group C</td>\n",
       "      <td>high school</td>\n",
       "      <td>free/reduced</td>\n",
       "      <td>completed</td>\n",
       "      <td>59</td>\n",
       "      <td>71</td>\n",
       "      <td>65</td>\n",
       "    </tr>\n",
       "    <tr>\n",
       "      <th>998</th>\n",
       "      <td>female</td>\n",
       "      <td>group D</td>\n",
       "      <td>some college</td>\n",
       "      <td>standard</td>\n",
       "      <td>completed</td>\n",
       "      <td>68</td>\n",
       "      <td>78</td>\n",
       "      <td>77</td>\n",
       "    </tr>\n",
       "    <tr>\n",
       "      <th>999</th>\n",
       "      <td>female</td>\n",
       "      <td>group D</td>\n",
       "      <td>some college</td>\n",
       "      <td>free/reduced</td>\n",
       "      <td>none</td>\n",
       "      <td>77</td>\n",
       "      <td>86</td>\n",
       "      <td>86</td>\n",
       "    </tr>\n",
       "  </tbody>\n",
       "</table>\n",
       "<p>1000 rows × 8 columns</p>\n",
       "</div>"
      ],
      "text/plain": [
       "     gender race/ethnicity parental level of education         lunch  \\\n",
       "0    female        group B           bachelor's degree      standard   \n",
       "1    female        group C                some college      standard   \n",
       "2    female        group B             master's degree      standard   \n",
       "3      male        group A          associate's degree  free/reduced   \n",
       "4      male        group C                some college      standard   \n",
       "..      ...            ...                         ...           ...   \n",
       "995  female        group E             master's degree      standard   \n",
       "996    male        group C                 high school  free/reduced   \n",
       "997  female        group C                 high school  free/reduced   \n",
       "998  female        group D                some college      standard   \n",
       "999  female        group D                some college  free/reduced   \n",
       "\n",
       "    test preparation course  math score  reading score  writing score  \n",
       "0                      none          72             72             74  \n",
       "1                 completed          69             90             88  \n",
       "2                      none          90             95             93  \n",
       "3                      none          47             57             44  \n",
       "4                      none          76             78             75  \n",
       "..                      ...         ...            ...            ...  \n",
       "995               completed          88             99             95  \n",
       "996                    none          62             55             55  \n",
       "997               completed          59             71             65  \n",
       "998               completed          68             78             77  \n",
       "999                    none          77             86             86  \n",
       "\n",
       "[1000 rows x 8 columns]"
      ]
     },
     "execution_count": 1,
     "metadata": {},
     "output_type": "execute_result"
    }
   ],
   "source": [
    "import pandas as pd\n",
    "\n",
    "students = pd.read_csv(\"StudentsPerformance.csv\")\n",
    "students"
   ]
  },
  {
   "cell_type": "markdown",
   "metadata": {},
   "source": [
    "Узнаем, какие уникальные значения есть в каждой из колонок:"
   ]
  },
  {
   "cell_type": "code",
   "execution_count": 2,
   "metadata": {},
   "outputs": [
    {
     "name": "stdout",
     "output_type": "stream",
     "text": [
      "gender :\n",
      " female male\n",
      "race/ethnicity :\n",
      " group B group C group A group D group E\n",
      "parental level of education :\n",
      " bachelor's degree some college master's degree associate's degree high school some high school\n",
      "lunch :\n",
      " standard free/reduced\n",
      "test preparation course :\n",
      " none completed\n",
      "math score :\n",
      " 72 69 90 47 76 71 88 40 64 38 58 65 78 50 18 46 54 66 44 74 73 67 70 62 63 56 97 81 75 57 55 53 59 82 77 33 52 0 79 39 45 60 61 41 49 30 80 42 27 43 68 85 98 87 51 99 84 91 83 89 22 100 96 94 48 35 34 86 92 37 28 24 26 95 36 29 32 93 19 23 8\n",
      "reading score :\n",
      " 72 90 95 57 78 83 43 64 60 54 52 81 53 75 89 32 42 58 69 73 71 74 70 65 87 56 61 84 55 44 41 85 59 17 39 80 37 63 51 49 26 68 45 47 86 34 79 66 67 91 100 76 77 82 92 93 62 88 50 28 48 46 23 38 94 97 99 31 96 24 29 40\n",
      "writing score :\n",
      " 74 88 93 44 75 78 92 39 67 50 52 43 73 70 58 86 28 46 61 63 53 80 72 55 65 38 82 79 83 59 57 54 68 66 62 76 48 42 87 49 10 34 71 37 56 41 22 81 45 36 89 47 90 100 64 98 51 40 84 69 33 60 85 91 77 27 94 95 19 35 32 96 97 99 15 30 23\n"
     ]
    }
   ],
   "source": [
    "for column in students.columns:\n",
    "    print(column, \":\\n\", *students[column].unique())"
   ]
  },
  {
   "cell_type": "markdown",
   "metadata": {},
   "source": [
    "Можно сделать это также с помощью метода `apply` (применить функцию к каждой колонке):"
   ]
  },
  {
   "cell_type": "code",
   "execution_count": 3,
   "metadata": {},
   "outputs": [
    {
     "data": {
      "text/plain": [
       "gender                                                            [female, male]\n",
       "race/ethnicity                     [group B, group C, group A, group D, group E]\n",
       "parental level of education    [bachelor's degree, some college, master's deg...\n",
       "lunch                                                   [standard, free/reduced]\n",
       "test preparation course                                        [none, completed]\n",
       "math score                     [72, 69, 90, 47, 76, 71, 88, 40, 64, 38, 58, 6...\n",
       "reading score                  [72, 90, 95, 57, 78, 83, 43, 64, 60, 54, 52, 8...\n",
       "writing score                  [74, 88, 93, 44, 75, 78, 92, 39, 67, 50, 52, 4...\n",
       "dtype: object"
      ]
     },
     "execution_count": 3,
     "metadata": {},
     "output_type": "execute_result"
    }
   ],
   "source": [
    "def func_uniq(column):\n",
    "    return column.unique()\n",
    "\n",
    "\n",
    "uniq_values=students.apply(func_uniq)\n",
    "uniq_values"
   ]
  },
  {
   "cell_type": "markdown",
   "metadata": {},
   "source": [
    "В метод apply можно передавать любую функцию, в том числе [статистические функции](https://numpy.org/doc/stable/reference/routines.statistics.html) из Numpy: `mean`, `median`, `std` и другие.\n",
    "\n",
    "Различаются ли результаты студентов, которые оплачивают школьный обед полностью, и тех, кто имеет льготы?"
   ]
  },
  {
   "cell_type": "code",
   "execution_count": 4,
   "metadata": {},
   "outputs": [],
   "source": [
    "standard = students[students[\"lunch\"]=='standard'] # обычные\n",
    "subsidized = students[students[\"lunch\"]!='standard'] # льготники"
   ]
  },
  {
   "cell_type": "markdown",
   "metadata": {},
   "source": [
    "С помощью `matplotlib.pyplot` можно построить графики на основе датафреймов:"
   ]
  },
  {
   "cell_type": "code",
   "execution_count": 5,
   "metadata": {},
   "outputs": [
    {
     "data": {
      "image/png": "[encoded data removed]",
      "text/plain": [
       "<Figure size 432x288 with 1 Axes>"
      ]
     },
     "metadata": {
      "needs_background": "light"
     },
     "output_type": "display_data"
    }
   ],
   "source": [
    "import matplotlib.pyplot as plt\n",
    "\n",
    "for df in (standard, subsidized):\n",
    "    plt.scatter(df[\"reading score\"], df[\"math score\"])\n",
    "lunch_types = [\"Standard\", \"Free/Reduced\"] # Запомним эту пару строк\n",
    "# в отдельную переменную, чтобы не прописывать её каждый раз\n",
    "plt.legend(lunch_types)\n",
    "plt.xlabel('Reading score')\n",
    "plt.ylabel('Math score')\n",
    "plt.show()"
   ]
  },
  {
   "cell_type": "markdown",
   "metadata": {},
   "source": [
    "Кажется, что облако точек \"Free/Reduced\" смещено влево (и вниз) по отношению к облаку точек \"Standard\". Проверим это с помощью построения ящиков с усами:"
   ]
  },
  {
   "cell_type": "code",
   "execution_count": 9,
   "metadata": {},
   "outputs": [
    {
     "data": {
      "image/png": "[encoded data removed]",
      "text/plain": [
       "<Figure size 432x288 with 1 Axes>"
      ]
     },
     "metadata": {
      "needs_background": "light"
     },
     "output_type": "display_data"
    }
   ],
   "source": [
    "plt.boxplot((standard[\"reading score\"], subsidized[\"reading score\"]),\n",
    "            labels=lunch_types)\n",
    "plt.xlabel('Lunch type')\n",
    "plt.ylabel('Reading score')\n",
    "plt.show()"
   ]
  },
  {
   "cell_type": "markdown",
   "metadata": {},
   "source": [
    "Теперь мы видим это более явно.\n",
    "\n",
    "## Упражнение 1\n",
    "\n",
    "Для каждого уровня образования родителей (parental level of education) постройте как subplot'ы:\n",
    "- точечный график результатов экзамена по чтения и экзамена по математике\n",
    "- точечный график результатов экзамена по чтения и экзамена по письму\n",
    "\n",
    "## Упражнение 2\n",
    "\n",
    "Для каждого уровня образования родителей и для каждого экзамена (чтение, письмо, математика) постройте ящики с усами.\n",
    "\n",
    "## Упражнение 3\n",
    "\n",
    "Вам дан датасет miceprotein.csv\n",
    "\n",
    "[Miceprotein.csv на Kaggle](https://www.kaggle.com/datasets/muhammetvarl/mice-protein)\n",
    "\n",
    "<hr>Уровни экспрессии 77 белков измерены в коре головного мозга 8 классов контрольных мышей и мышей с синдромом Дауна, подвергнутых контекстному обусловливанию страха - задаче, используемой для оценки ассоциативного обучения.\n",
    "\n",
    "Набор данных состоит из уровней экспрессии 77 белков/белковых модификаций, которые давали детектируемые сигналы в ядерной фракции коры головного мозга. Имеется 38 контрольных мышей и 34 трисомные мыши (синдром Дауна), всего 72 мыши. В экспериментах было зарегистрировано 15 измерений каждого белка на образец/мышь. Таким образом, для контрольных мышей имеется 38x15, или 570 измерений, а для трисомных мышей - 34x15, или 510 измерений. Всего набор данных содержит 1080 измерений для каждого белка. Каждое измерение можно рассматривать как независимый образец/мышь.\n",
    "\n",
    "Восемь классов мышей описаны на основе таких характеристик, как генотип, поведение и лечение. Согласно генотипу, мыши могут быть контрольными или трисомными. Согласно поведению, одни мыши были стимулированы к обучению (контекст-шок), а другие нет (шок-контекст), и для того, чтобы оценить эффект препарата мемантин в восстановлении способности к обучению у трисомных мышей, некоторым мышам вводили препарат, а другим нет.\n",
    "</hr>\n",
    "<hr>\n",
    "Для датасета miceprotein.csv постройте ящики с усами для уровней экспрессии белков `DYRK1A_N`, `SOD1_N` для каждого класса образцов. ⚠Некоторые данные отсутствуют.\n",
    "</hr>"
   ]
  }
 ],
 "metadata": {
  "kernelspec": {
   "display_name": "Python 3",
   "language": "python",
   "name": "python3"
  },
  "language_info": {
   "codemirror_mode": {
    "name": "ipython",
    "version": 3
   },
   "file_extension": ".py",
   "mimetype": "text/x-python",
   "name": "python",
   "nbconvert_exporter": "python",
   "pygments_lexer": "ipython3",
   "version": "3.8.5"
  },
  "toc": {
   "base_numbering": 1,
   "nav_menu": {},
   "number_sections": false,
   "sideBar": true,
   "skip_h1_title": false,
   "title_cell": "Table of Contents",
   "title_sidebar": "Contents",
   "toc_cell": false,
   "toc_position": {},
   "toc_section_display": true,
   "toc_window_display": false
  }
 },
 "nbformat": 4,
 "nbformat_minor": 4
}
