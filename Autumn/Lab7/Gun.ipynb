{
 "cells": [
  {
   "cell_type": "markdown",
   "metadata": {},
   "source": [
    "# Игра \"Пушка\"\n",
    "\n",
    "## Общая информация\n",
    "\n",
    "При процедурном программировании программа разбивается на части в соответствии с алгоритмом: каждая функция является составной частью алгоритма. При объектно-ориентированном программировании программа строится как совокупность взаимодействующих объектов. Что же такое объект? С точки зрения объектно-ориентированного подхода, объект - это нечто, обладающее состоянием и поведением. По сути, состояние - это данные, соответствующие объекту, например рост, вес и громкость гавканья собаки. Поведением называется набор операций, которые можно производить с объектом. Например, в случае с собакой: покормить, погладить, погулять. Эти операции, которые можно выполнять над объектом обычно называют методами (по крайней мере в контексте языка Python).\n",
    "\n",
    "Часто приходится работать с объектами одной природы. Например, если у нас несколько собак, то у них у всех одинаковые наборы данных (хотя значения могут различаться) и одинаковые методы. Для определения такой \"общей природы\" вводятся классы. Класс, по сути, есть шаблон объектов - базовое состояние и общее поведение для всех объектов этого класса.\n",
    "Объекты одного класса называют экземплярами этого класса. Также, класс является типом данных для объектов.\n",
    "\n",
    "В языке Python для определения класса используется оператор class. Рассмотрим следующий пример:"
   ]
  },
  {
   "cell_type": "code",
   "execution_count": 1,
   "metadata": {},
   "outputs": [
    {
     "name": "stdout",
     "output_type": "stream",
     "text": [
      "Gaw-gaw\n",
      "Gaw-gaw\n"
     ]
    }
   ],
   "source": [
    "class Dog:\n",
    "    def say_gaw(self): # имя self для первого аргумента метода это общепринятое но не обязательное правило\n",
    "        print('Gaw-gaw')\n",
    "\n",
    "my_dog = Dog()\n",
    "another_dog = Dog()\n",
    "my_dog.say_gaw()      # вызовется функция Dog.say_gaw с параметром self = my_dog\n",
    "another_dog.say_gaw()"
   ]
  },
  {
   "cell_type": "markdown",
   "metadata": {},
   "source": [
    "Здесь мы описали класс Dog, который задает один метод. При описании методов класса первый аргумент есть ссылка на экземепляр, для которого этот метод вызывается. Далее, мы создали пару собак и позвали для каждой метод say_gaw. Для создания объектов используется имя класса со скобками. Методы вызываются через точку после имени объекта. Заметте, что первый аргумент метода - self - при вызове указывать не нужно, т.к. им становится сам объект (тот для которого зовем метод, его имя перед точкой).\n",
    "\n",
    "Для хранения данных в объектах испальзуются атрибуты. Это те самые \"свойства\" объекта - рост, вес и т.п. Атрибуты могут иметь любой тип данных. Так же как и с обычными переменными в Python, объявлять атрибуты неким специальным образом не нужно, они появляются автоматически, при первом приваивании, следующим образом:"
   ]
  },
  {
   "cell_type": "code",
   "execution_count": 2,
   "metadata": {},
   "outputs": [
    {
     "name": "stdout",
     "output_type": "stream",
     "text": [
      "Gaw-gaw\n",
      "GAW-GAW\n"
     ]
    }
   ],
   "source": [
    "class Dog:\n",
    "    def say_gaw(self):\n",
    "        if self.angry:\n",
    "            print('GAW-GAW')\n",
    "        else:\n",
    "            print('Gaw-gaw')\n",
    "\n",
    "    def ping(self):\n",
    "        self.angry = True\n",
    "\n",
    "    def feed(self, food_count):\n",
    "        if food_count > 10:\n",
    "            self.angry = False\n",
    "\n",
    "my_dog = Dog()\n",
    "my_dog.feed(20)\n",
    "my_dog.say_gaw()      # напечатает Gaw-gaw\n",
    "my_dog.ping()\n",
    "my_dog.say_gaw()      # напечатает GAW-GAW"
   ]
  },
  {
   "cell_type": "markdown",
   "metadata": {},
   "source": [
    "Часто для атрибутов хочется иметь некоторое начальное значение. В предыдущем примере есть проблема - если собака попытается гавкнуть до того как ее пнули или покормили, она навернется с ошибкой `AttributeError: 'Dog' object has no attribute 'angry'`. Для решения этой проблемы используется метод со специальным именем - `__init__`, который вызывается автоматически при создании объекта:"
   ]
  },
  {
   "cell_type": "code",
   "execution_count": 3,
   "metadata": {},
   "outputs": [
    {
     "name": "stdout",
     "output_type": "stream",
     "text": [
      "Gaw-gaw\n"
     ]
    }
   ],
   "source": [
    "class Dog:\n",
    "    def __init__(self):\n",
    "        self.angry = False\n",
    "\n",
    "    def say_gaw(self):\n",
    "        if self.angry:\n",
    "            print('GAW-GAW')\n",
    "        else:\n",
    "            print('Gaw-gaw')\n",
    "\n",
    "my_dog = Dog()\n",
    "my_dog.say_gaw()      # ошибки нет, напечатает Gaw-gaw"
   ]
  },
  {
   "cell_type": "markdown",
   "metadata": {},
   "source": [
    "Метод `__init__` называется конструктором. Собственно, конструктор зовется при выполнении конструкции вида `ИмяКласса()`, в нашем случае - `Dog()`. Аргументом `self` для конструктора становится вновь созданный объект. Конструктор, также как и обычные методы, может иметь дополнительные аргументы кроме `self`. Эти аргументы передаются при создании объекта, следующим образом:"
   ]
  },
  {
   "cell_type": "code",
   "execution_count": 4,
   "metadata": {},
   "outputs": [
    {
     "name": "stdout",
     "output_type": "stream",
     "text": [
      "GAW-GAW-GAW-\n"
     ]
    }
   ],
   "source": [
    "class Dog:\n",
    "    def __init__(self, angry, count):\n",
    "        self.angry = angry\n",
    "        self.count = count\n",
    "\n",
    "    def say_gaw(self):\n",
    "        if self.angry:\n",
    "            print('GAW-' * self.count)\n",
    "        else:\n",
    "            print('gaw-' * self.count)\n",
    "\n",
    "my_dog = Dog(True, 3)\n",
    "my_dog.say_gaw()      # ошибки нет, напечатает Gaw-gaw"
   ]
  },
  {
   "cell_type": "markdown",
   "metadata": {},
   "source": [
    "Класс в Python также является объектом. Объект создается с помощью ключевого слова class, как в примерах выше. Таким образом, в предыдущем примере вызов `my_dog.say_gaw()` эквивалентен вызову `Dog.say_gaw(my_dog)`. Разобраться, какой объект какому классу принадлежит помогут встроенные функции `type` и `isinstance`:"
   ]
  },
  {
   "cell_type": "code",
   "execution_count": 7,
   "metadata": {},
   "outputs": [
    {
     "name": "stdout",
     "output_type": "stream",
     "text": [
      "<class '__main__.A'>\n"
     ]
    }
   ],
   "source": [
    "class A:\n",
    "    pass\n",
    "\n",
    "\n",
    "a = A()\n",
    "print(type(a))"
   ]
  },
  {
   "cell_type": "code",
   "execution_count": 8,
   "metadata": {},
   "outputs": [
    {
     "name": "stdout",
     "output_type": "stream",
     "text": [
      "<class 'type'>\n"
     ]
    }
   ],
   "source": [
    "print(type(A))"
   ]
  },
  {
   "cell_type": "code",
   "execution_count": 9,
   "metadata": {},
   "outputs": [
    {
     "name": "stdout",
     "output_type": "stream",
     "text": [
      "<class 'type'>\n"
     ]
    }
   ],
   "source": [
    "print(type(type))"
   ]
  },
  {
   "cell_type": "code",
   "execution_count": 10,
   "metadata": {},
   "outputs": [
    {
     "name": "stdout",
     "output_type": "stream",
     "text": [
      "<class 'int'>\n"
     ]
    }
   ],
   "source": [
    "print(type(1))"
   ]
  },
  {
   "cell_type": "code",
   "execution_count": 11,
   "metadata": {},
   "outputs": [
    {
     "name": "stdout",
     "output_type": "stream",
     "text": [
      "<class 'type'>\n"
     ]
    }
   ],
   "source": [
    "print(type(int))"
   ]
  },
  {
   "cell_type": "code",
   "execution_count": 12,
   "metadata": {},
   "outputs": [
    {
     "data": {
      "text/plain": [
       "True"
      ]
     },
     "execution_count": 12,
     "metadata": {},
     "output_type": "execute_result"
    }
   ],
   "source": [
    "isinstance(1, int)"
   ]
  },
  {
   "cell_type": "code",
   "execution_count": 13,
   "metadata": {},
   "outputs": [
    {
     "data": {
      "text/plain": [
       "False"
      ]
     },
     "execution_count": 13,
     "metadata": {},
     "output_type": "execute_result"
    }
   ],
   "source": [
    "isinstance(1, A)"
   ]
  },
  {
   "cell_type": "code",
   "execution_count": 14,
   "metadata": {},
   "outputs": [
    {
     "data": {
      "text/plain": [
       "True"
      ]
     },
     "execution_count": 14,
     "metadata": {},
     "output_type": "execute_result"
    }
   ],
   "source": [
    "isinstance(a, A)"
   ]
  },
  {
   "cell_type": "code",
   "execution_count": 15,
   "metadata": {},
   "outputs": [
    {
     "data": {
      "text/plain": [
       "True"
      ]
     },
     "execution_count": 15,
     "metadata": {},
     "output_type": "execute_result"
    }
   ],
   "source": [
    "isinstance(type, type)"
   ]
  },
  {
   "cell_type": "code",
   "execution_count": 16,
   "metadata": {},
   "outputs": [
    {
     "data": {
      "text/plain": [
       "True"
      ]
     },
     "execution_count": 16,
     "metadata": {},
     "output_type": "execute_result"
    }
   ],
   "source": [
    "isinstance(A, type)"
   ]
  },
  {
   "cell_type": "markdown",
   "metadata": {},
   "source": [
    "Примечание: здесь был объявлен, в тестовых целях, пустой класс A - в нем нет никаких методов.\n",
    "\n",
    "Нужно заметить также, что методы, которые класс определяет, не будут методами для него (как для объекта), а будут просто атрибутами типа `function`. Действительно, при вызове `Dog.say_gaw(my_dog)` никакой дополнительный `self` уже не передается, функция запускается в том виде, в котором мы ее написали. Это также можно показать следующим образом:"
   ]
  },
  {
   "cell_type": "code",
   "execution_count": 19,
   "metadata": {},
   "outputs": [
    {
     "name": "stdout",
     "output_type": "stream",
     "text": [
      "<class 'function'>\n"
     ]
    }
   ],
   "source": [
    "class A:\n",
    "    def f(self):\n",
    "        print('hello')\n",
    "         \n",
    "print(type(A.f))"
   ]
  },
  {
   "cell_type": "code",
   "execution_count": 20,
   "metadata": {},
   "outputs": [
    {
     "name": "stdout",
     "output_type": "stream",
     "text": [
      "<class 'method'>\n"
     ]
    }
   ],
   "source": [
    "a = A()\n",
    "print(type(a.f))"
   ]
  },
  {
   "cell_type": "markdown",
   "metadata": {},
   "source": [
    "То есть, `A.f` - это функция, а `a.f` - метод. Метод здесь это объект, который содержит в себе ссылку на объект, за которым этот метод закреплен (в нашем случае это объект `a`) и ссылку на функцию, которую надо вызывать. Соответственно при вызове метод завет эту функцию, передавя ссылку на свой объект как первый аргумент и прокидывая остальные аргументы."
   ]
  },
  {
   "cell_type": "code",
   "execution_count": 21,
   "metadata": {},
   "outputs": [
    {
     "data": {
      "text/plain": [
       "False"
      ]
     },
     "execution_count": 21,
     "metadata": {},
     "output_type": "execute_result"
    }
   ],
   "source": [
    "m = a.f\n",
    "m is A.f"
   ]
  },
  {
   "cell_type": "code",
   "execution_count": 22,
   "metadata": {},
   "outputs": [
    {
     "data": {
      "text/plain": [
       "True"
      ]
     },
     "execution_count": 22,
     "metadata": {},
     "output_type": "execute_result"
    }
   ],
   "source": [
    "m.__func__ is A.f"
   ]
  },
  {
   "cell_type": "code",
   "execution_count": 23,
   "metadata": {},
   "outputs": [
    {
     "data": {
      "text/plain": [
       "True"
      ]
     },
     "execution_count": 23,
     "metadata": {},
     "output_type": "execute_result"
    }
   ],
   "source": [
    "m.__self__ is a"
   ]
  },
  {
   "cell_type": "code",
   "execution_count": 24,
   "metadata": {},
   "outputs": [
    {
     "name": "stdout",
     "output_type": "stream",
     "text": [
      "hello\n"
     ]
    }
   ],
   "source": [
    "m.__func__(m.__self__)"
   ]
  },
  {
   "cell_type": "code",
   "execution_count": 25,
   "metadata": {},
   "outputs": [
    {
     "name": "stdout",
     "output_type": "stream",
     "text": [
      "hello\n"
     ]
    }
   ],
   "source": [
    "m()"
   ]
  },
  {
   "cell_type": "code",
   "execution_count": 26,
   "metadata": {},
   "outputs": [
    {
     "name": "stdout",
     "output_type": "stream",
     "text": [
      "hello\n"
     ]
    }
   ],
   "source": [
    "a.f()"
   ]
  },
  {
   "cell_type": "code",
   "execution_count": 27,
   "metadata": {},
   "outputs": [
    {
     "name": "stdout",
     "output_type": "stream",
     "text": [
      "hello\n"
     ]
    }
   ],
   "source": [
    "A.f(a)"
   ]
  },
  {
   "cell_type": "markdown",
   "metadata": {},
   "source": [
    "## Стандартные методы\n",
    "\n",
    "Кроме `__init__` есть и другие стандартные методы, которые можно определить в описании класса.\n",
    "\n",
    "Метод `__repr__` должен возвращать текстовую строку, содержащую код (на языке Python), создающую объект, равный данному. Естественно, метод `__repr__` должен содержать вызов конструктора, которому передаются в качестве параметров все строки исходного объекта, то есть он должен возвращать строку вида \"Person('Иванов', 5)\"\n",
    "\n",
    "Пример метода `__repr__` (для экономии места опустим описание конструктора `__init__`):\n",
    "\n",
    "        class Dog:\n",
    "            def __repr__(self):\n",
    "                return \"Dog('\" + self.angry + \"', \" + self.count + \")\"\n",
    "\n",
    "Таким образом, метод `__repr__` возвращает строку с описанием объекта, которое может быть воспринято итерпретатором языка Питон.\n",
    "\n",
    "Метод `__str__` возвращает строку, являющуюся описанием объекта в том виде, в котором его удобно будет воспринимать человеку. Здесь не нужно выводить имя конструктора, можно, например, просто вернуть строку с содержимым всех полей:\n",
    "\n",
    "        class Dog\n",
    "            def __str__(self):\n",
    "                return self.name + ' ' + str(self.score)\n",
    "\n",
    "Метод `__str__` будет вызываться, когда вызывается функция `str` от данного объекта, например, `str(Vasya)`. То есть, создавая метод `__str__`, вы даете указание Питону, как преобразовывать данный объект к типу `str`.\n",
    "\n",
    "Поскольку функция `print` использует именно функцию `str` для вывода объекта на экран, то определение метода `__str__` позволит выводить объекты на экран удобным способом: при помощи `print`.\n",
    "\n",
    "## Упражнения - игра \"Пушка\"\n",
    "\n",
    "### Упражнение №1\n",
    "\n",
    "Команда студентов начала разрабатывать игру \"Пушка\". Для тестирования использовался обфусцированный исходный файл, который позволяет увидеть процесс, но скрывает исходный код: `gun_obfuscated.py`.\n",
    "\n",
    "В результате празднования окончания сессии компьютер, на котором лежали работающие исходники, был испорчен. На флешке была найдена только промежуточная версия. \n",
    "Помогите восстановить работоспособность программы используя имеющийся исходный код: `gun.py`\n",
    "\n",
    "\n",
    "Подсказка: для начала, исправьте код так, чтобы он запускался, и поправьте все 'FIXME'.\n",
    "\n",
    "### Упражнение №2\n",
    "\n",
    "Улучшите программу из №1, добавив 2 цели.\n",
    "\n",
    "### Упражнение №3\n",
    "\n",
    "Улучшите программу из №2, сделав цели движущимися."
   ]
  }
 ],
 "metadata": {
  "kernelspec": {
   "display_name": "Python 3",
   "language": "python",
   "name": "python3"
  },
  "language_info": {
   "codemirror_mode": {
    "name": "ipython",
    "version": 3
   },
   "file_extension": ".py",
   "mimetype": "text/x-python",
   "name": "python",
   "nbconvert_exporter": "python",
   "pygments_lexer": "ipython3",
   "version": "3.8.5"
  }
 },
 "nbformat": 4,
 "nbformat_minor": 4
}
